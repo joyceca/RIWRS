{
 "cells": [
  {
   "cell_type": "code",
   "execution_count": 39,
   "metadata": {},
   "outputs": [],
   "source": [
    "%matplotlib inline\n",
    "from tweepy import OAuthHandler\n",
    "from tweepy import Stream\n",
    "from tweepy.streaming import StreamListener\n",
    "import time"
   ]
  },
  {
   "cell_type": "code",
   "execution_count": 40,
   "metadata": {},
   "outputs": [],
   "source": [
    "# setup security \n",
    "access_token = '1008027862778171393-R5kwugn5lEwWEWrbILnsLcPeAaEJ4R'\n",
    "access_token_secret = 'iAfwbXfHwGiWwGA9UHkebQFQAyWlsWwpbbyRsKBaZ4i5j'\n",
    "consumer_key = 'a2ALwrEMMB2zrTsrX1WF03E2P'\n",
    "consumer_secret = '5MqLZG5IwIwxLm0RCGqjE7ivEhPHPFr9zFfxS54R56G07sGggS'\n",
    "\n",
    "# setup file store\n",
    "file = 'D:/Pós Graduação/jupyter/Nova pasta/extracao-dados-web-sociais/tweets-sample.json'"
   ]
  },
  {
   "cell_type": "code",
   "execution_count": 41,
   "metadata": {
    "collapsed": true
   },
   "outputs": [],
   "source": [
    "class MyListener(StreamListener):\n",
    "        \n",
    "    \n",
    "    def __init__(self, file):\n",
    "        global the_file\n",
    "        self.the_file = open(file, 'w')\n",
    "        \n",
    "    def on_data(self, data):\n",
    "        self.the_file.write(data)\n",
    "        return True\n",
    "    \n",
    "    def on_error(self, status):\n",
    "        print(status)\n",
    "        \n",
    "    def file_close(self):\n",
    "        self.the_file.close()  "
   ]
  },
  {
   "cell_type": "code",
   "execution_count": 42,
   "metadata": {},
   "outputs": [
    {
     "name": "stdout",
     "output_type": "stream",
     "text": [
      "**Finish**\n"
     ]
    }
   ],
   "source": [
    "listener = MyListener(file)\n",
    "oauth = OAuthHandler(consumer_key, consumer_secret)\n",
    "oauth.set_access_token(access_token, access_token_secret)\n",
    "\n",
    "max_time = 120 # in seconds\n",
    "start_time = time.time() \n",
    "\n",
    "## collecting...\n",
    "stream = Stream(oauth, listener)\n",
    "#stream.filter(track=['copa', 'neymar', 'messi'],async=True,languages=['pt'])\n",
    "stream.filter(track=['lucifer', 'brooklyn99', 'jessicajones', 'batesmotel'],async=True)\n",
    "\n",
    "elapsed_time = (time.time() - start_time)\n",
    "while  elapsed_time < max_time:\n",
    "    elapsed_time = (time.time() - start_time)\n",
    "\n",
    "    \n",
    "print('**Finish**')\n",
    "stream.disconnect()\n",
    "listener.file_close()"
   ]
  },
  {
   "cell_type": "code",
   "execution_count": 43,
   "metadata": {
    "collapsed": true
   },
   "outputs": [],
   "source": [
    "import json\n",
    "import pandas as pd\n",
    "import matplotlib.pyplot as plt"
   ]
  },
  {
   "cell_type": "code",
   "execution_count": 44,
   "metadata": {
    "collapsed": true
   },
   "outputs": [],
   "source": [
    "tweets_data = []\n",
    "tweets_file = open(file, \"r\")\n",
    "for line in tweets_file:\n",
    "    try:\n",
    "        tweet = json.loads(line)\n",
    "        tweets_data.append(tweet)\n",
    "    except:\n",
    "        continue"
   ]
  },
  {
   "cell_type": "code",
   "execution_count": 45,
   "metadata": {},
   "outputs": [
    {
     "name": "stdout",
     "output_type": "stream",
     "text": [
      "  lang                                               text country\n",
      "0   fr  RT @GossipRoomOff: #Lucifer est officiellement...    None\n",
      "1   en  RT @Tom_EllisFans: #Repost @officialtomellis a...    None\n",
      "2   pt  RT @SeriesBrasil: NETFLIX SALVOU LUCIFER!\\n\\nD...    None\n",
      "3  und                      #LuciferSaved  #Lucifer x2614    None\n",
      "4   en  RT @dorkperalta: THE MOST BEAUTIFUL BRIDE her ...    None\n",
      "5   en  RT @tomellis17: Thank you @MichaelAusiello and...    None\n",
      "6   en  RT @magnusandalec_: Hey, @netflix, since Lucif...    None\n",
      "7   en  @seewhatsnext @netflix When will #Lucifer be o...    None\n",
      "8   en  RT @tomellis17: WE DID IT !!!!!!!!!!! Thank yo...    None\n",
      "9   en  RT @seewhatsnext: #Lucifer fans, rejoice: Netf...    None\n"
     ]
    }
   ],
   "source": [
    "tweets = pd.DataFrame()\n",
    "\n",
    "tweets['lang'] = ''\n",
    "tweets['text'] = ''\n",
    "tweets['country'] = ''\n",
    "for tweet in tweets_data:\n",
    "    if 'lang' in tweet:\n",
    "        tweets.loc[len(tweets)] = [tweet['lang'],\n",
    "                               tweet['text'],\n",
    "                               tweet['place']['country'] if tweet['place'] != None else None]\n",
    "    \n",
    "print(tweets.head(10))"
   ]
  },
  {
   "cell_type": "code",
   "execution_count": 46,
   "metadata": {},
   "outputs": [
    {
     "data": {
      "text/plain": [
       "<matplotlib.axes._subplots.AxesSubplot at 0x18be47241d0>"
      ]
     },
     "execution_count": 46,
     "metadata": {},
     "output_type": "execute_result"
    },
    {
     "data": {
      "image/png": "[encoded data removed]",
      "text/plain": [
       "<matplotlib.figure.Figure at 0x18be4708668>"
      ]
     },
     "metadata": {},
     "output_type": "display_data"
    }
   ],
   "source": [
    "tweets_by_lang = tweets['lang'].value_counts()\n",
    "\n",
    "fig, ax = plt.subplots()\n",
    "ax.tick_params(axis='x', labelsize=15)\n",
    "ax.tick_params(axis='y', labelsize=10)\n",
    "ax.set_xlabel('Languages', fontsize=15)\n",
    "ax.set_ylabel('Number of tweets' , fontsize=15)\n",
    "ax.set_title('Top 5 languages', fontsize=15, fontweight='bold')\n",
    "tweets_by_lang[:5].plot(ax=ax, kind='bar', color='red')"
   ]
  },
  {
   "cell_type": "code",
   "execution_count": 47,
   "metadata": {},
   "outputs": [
    {
     "data": {
      "text/plain": [
       "<matplotlib.axes._subplots.AxesSubplot at 0x18be472cba8>"
      ]
     },
     "execution_count": 47,
     "metadata": {},
     "output_type": "execute_result"
    },
    {
     "data": {
      "image/png": "[encoded data removed]",
      "text/plain": [
       "<matplotlib.figure.Figure at 0x18be47240b8>"
      ]
     },
     "metadata": {},
     "output_type": "display_data"
    }
   ],
   "source": [
    "tweets_by_country = tweets['country'].value_counts()\n",
    "\n",
    "fig, ax = plt.subplots()\n",
    "ax.tick_params(axis='x', labelsize=15)\n",
    "ax.tick_params(axis='y', labelsize=10)\n",
    "ax.set_xlabel('Countries', fontsize=15)\n",
    "ax.set_ylabel('Number of tweets' , fontsize=15)\n",
    "ax.set_title('Top 5 countries', fontsize=15, fontweight='bold')\n",
    "tweets_by_country[:5].plot(ax=ax, kind='bar', color='blue')"
   ]
  },
  {
   "cell_type": "code",
   "execution_count": 48,
   "metadata": {
    "collapsed": true
   },
   "outputs": [],
   "source": [
    "import re\n",
    "def word_in_text(word, text):\n",
    "    word = word.lower()\n",
    "    text = text.lower()\n",
    "    match = re.search(word, text)\n",
    "    if match:\n",
    "        return True\n",
    "    return False"
   ]
  },
  {
   "cell_type": "code",
   "execution_count": 49,
   "metadata": {},
   "outputs": [
    {
     "data": {
      "text/html": [
       "<div>\n",
       "<style scoped>\n",
       "    .dataframe tbody tr th:only-of-type {\n",
       "        vertical-align: middle;\n",
       "    }\n",
       "\n",
       "    .dataframe tbody tr th {\n",
       "        vertical-align: top;\n",
       "    }\n",
       "\n",
       "    .dataframe thead th {\n",
       "        text-align: right;\n",
       "    }\n",
       "</style>\n",
       "<table border=\"1\" class=\"dataframe\">\n",
       "  <thead>\n",
       "    <tr style=\"text-align: right;\">\n",
       "      <th></th>\n",
       "      <th>lang</th>\n",
       "      <th>text</th>\n",
       "      <th>country</th>\n",
       "      <th>player</th>\n",
       "    </tr>\n",
       "  </thead>\n",
       "  <tbody>\n",
       "    <tr>\n",
       "      <th>0</th>\n",
       "      <td>fr</td>\n",
       "      <td>RT @GossipRoomOff: #Lucifer est officiellement...</td>\n",
       "      <td>None</td>\n",
       "      <td>None</td>\n",
       "    </tr>\n",
       "    <tr>\n",
       "      <th>1</th>\n",
       "      <td>en</td>\n",
       "      <td>RT @Tom_EllisFans: #Repost @officialtomellis a...</td>\n",
       "      <td>None</td>\n",
       "      <td>None</td>\n",
       "    </tr>\n",
       "    <tr>\n",
       "      <th>2</th>\n",
       "      <td>pt</td>\n",
       "      <td>RT @SeriesBrasil: NETFLIX SALVOU LUCIFER!\\n\\nD...</td>\n",
       "      <td>None</td>\n",
       "      <td>None</td>\n",
       "    </tr>\n",
       "    <tr>\n",
       "      <th>3</th>\n",
       "      <td>und</td>\n",
       "      <td>#LuciferSaved  #Lucifer x2614</td>\n",
       "      <td>None</td>\n",
       "      <td>None</td>\n",
       "    </tr>\n",
       "    <tr>\n",
       "      <th>4</th>\n",
       "      <td>en</td>\n",
       "      <td>RT @dorkperalta: THE MOST BEAUTIFUL BRIDE her ...</td>\n",
       "      <td>None</td>\n",
       "      <td>None</td>\n",
       "    </tr>\n",
       "    <tr>\n",
       "      <th>5</th>\n",
       "      <td>en</td>\n",
       "      <td>RT @tomellis17: Thank you @MichaelAusiello and...</td>\n",
       "      <td>None</td>\n",
       "      <td>None</td>\n",
       "    </tr>\n",
       "    <tr>\n",
       "      <th>6</th>\n",
       "      <td>en</td>\n",
       "      <td>RT @magnusandalec_: Hey, @netflix, since Lucif...</td>\n",
       "      <td>None</td>\n",
       "      <td>None</td>\n",
       "    </tr>\n",
       "    <tr>\n",
       "      <th>7</th>\n",
       "      <td>en</td>\n",
       "      <td>@seewhatsnext @netflix When will #Lucifer be o...</td>\n",
       "      <td>None</td>\n",
       "      <td>None</td>\n",
       "    </tr>\n",
       "    <tr>\n",
       "      <th>8</th>\n",
       "      <td>en</td>\n",
       "      <td>RT @tomellis17: WE DID IT !!!!!!!!!!! Thank yo...</td>\n",
       "      <td>None</td>\n",
       "      <td>None</td>\n",
       "    </tr>\n",
       "    <tr>\n",
       "      <th>9</th>\n",
       "      <td>en</td>\n",
       "      <td>RT @seewhatsnext: #Lucifer fans, rejoice: Netf...</td>\n",
       "      <td>None</td>\n",
       "      <td>None</td>\n",
       "    </tr>\n",
       "    <tr>\n",
       "      <th>10</th>\n",
       "      <td>en</td>\n",
       "      <td>RT @TomEllisLovers: What brand was Lucifer sui...</td>\n",
       "      <td>None</td>\n",
       "      <td>None</td>\n",
       "    </tr>\n",
       "    <tr>\n",
       "      <th>11</th>\n",
       "      <td>en</td>\n",
       "      <td>RT @tomellis17: You gotta vote for @ScarMestev...</td>\n",
       "      <td>None</td>\n",
       "      <td>None</td>\n",
       "    </tr>\n",
       "    <tr>\n",
       "      <th>12</th>\n",
       "      <td>en</td>\n",
       "      <td>RT @DailyLaurenG: We did it! Lucifer is coming...</td>\n",
       "      <td>None</td>\n",
       "      <td>None</td>\n",
       "    </tr>\n",
       "    <tr>\n",
       "      <th>13</th>\n",
       "      <td>en</td>\n",
       "      <td>RT @Aimee_Garcia: WE DID IT 🙌🏽🙌🏽🙌🏽🙌🏽🙌🏽🙌🏽🙌🏽 @ne...</td>\n",
       "      <td>None</td>\n",
       "      <td>None</td>\n",
       "    </tr>\n",
       "    <tr>\n",
       "      <th>14</th>\n",
       "      <td>pt</td>\n",
       "      <td>RT @NetflixBrasil: Segue tradução:\\n\\nOQQQQQQQ...</td>\n",
       "      <td>None</td>\n",
       "      <td>None</td>\n",
       "    </tr>\n",
       "    <tr>\n",
       "      <th>15</th>\n",
       "      <td>en</td>\n",
       "      <td>Yes!!! My guilty pleasure continues!!! https:/...</td>\n",
       "      <td>None</td>\n",
       "      <td>None</td>\n",
       "    </tr>\n",
       "    <tr>\n",
       "      <th>16</th>\n",
       "      <td>en</td>\n",
       "      <td>RT @STVLucifer: As promised here is our Twitte...</td>\n",
       "      <td>None</td>\n",
       "      <td>None</td>\n",
       "    </tr>\n",
       "    <tr>\n",
       "      <th>17</th>\n",
       "      <td>en</td>\n",
       "      <td>RT @TomEllisLovers: What would you like to see...</td>\n",
       "      <td>None</td>\n",
       "      <td>None</td>\n",
       "    </tr>\n",
       "    <tr>\n",
       "      <th>18</th>\n",
       "      <td>en</td>\n",
       "      <td>RT @MichaelAusiello: #Lucifer Saved! Netflix P...</td>\n",
       "      <td>None</td>\n",
       "      <td>None</td>\n",
       "    </tr>\n",
       "    <tr>\n",
       "      <th>19</th>\n",
       "      <td>en</td>\n",
       "      <td>Subtle message to FOX!! Hahahaha Lucifer has a...</td>\n",
       "      <td>None</td>\n",
       "      <td>None</td>\n",
       "    </tr>\n",
       "  </tbody>\n",
       "</table>\n",
       "</div>"
      ],
      "text/plain": [
       "   lang                                               text country player\n",
       "0    fr  RT @GossipRoomOff: #Lucifer est officiellement...    None   None\n",
       "1    en  RT @Tom_EllisFans: #Repost @officialtomellis a...    None   None\n",
       "2    pt  RT @SeriesBrasil: NETFLIX SALVOU LUCIFER!\\n\\nD...    None   None\n",
       "3   und                      #LuciferSaved  #Lucifer x2614    None   None\n",
       "4    en  RT @dorkperalta: THE MOST BEAUTIFUL BRIDE her ...    None   None\n",
       "5    en  RT @tomellis17: Thank you @MichaelAusiello and...    None   None\n",
       "6    en  RT @magnusandalec_: Hey, @netflix, since Lucif...    None   None\n",
       "7    en  @seewhatsnext @netflix When will #Lucifer be o...    None   None\n",
       "8    en  RT @tomellis17: WE DID IT !!!!!!!!!!! Thank yo...    None   None\n",
       "9    en  RT @seewhatsnext: #Lucifer fans, rejoice: Netf...    None   None\n",
       "10   en  RT @TomEllisLovers: What brand was Lucifer sui...    None   None\n",
       "11   en  RT @tomellis17: You gotta vote for @ScarMestev...    None   None\n",
       "12   en  RT @DailyLaurenG: We did it! Lucifer is coming...    None   None\n",
       "13   en  RT @Aimee_Garcia: WE DID IT 🙌🏽🙌🏽🙌🏽🙌🏽🙌🏽🙌🏽🙌🏽 @ne...    None   None\n",
       "14   pt  RT @NetflixBrasil: Segue tradução:\\n\\nOQQQQQQQ...    None   None\n",
       "15   en  Yes!!! My guilty pleasure continues!!! https:/...    None   None\n",
       "16   en  RT @STVLucifer: As promised here is our Twitte...    None   None\n",
       "17   en  RT @TomEllisLovers: What would you like to see...    None   None\n",
       "18   en  RT @MichaelAusiello: #Lucifer Saved! Netflix P...    None   None\n",
       "19   en  Subtle message to FOX!! Hahahaha Lucifer has a...    None   None"
      ]
     },
     "execution_count": 49,
     "metadata": {},
     "output_type": "execute_result"
    }
   ],
   "source": [
    "## filtrando aqueles q mais foram falados (termos mais influentes)\n",
    "players = []\n",
    "for tweet in tweets_data:\n",
    "    if 'text' in tweet:\n",
    "        if word_in_text('neymar', tweet['text']):\n",
    "            players.append('neymar')\n",
    "        elif word_in_text('messi', tweet['text']):\n",
    "            players.append('messi')\n",
    "        elif word_in_text('ronaldo', tweet['text']):\n",
    "            players.append('ronaldo')\n",
    "        elif word_in_text('sallah', tweet['text']):\n",
    "            players.append('sallah')\n",
    "        elif word_in_text('hazard', tweet['text']):\n",
    "            players.append('hazard')\n",
    "        else:\n",
    "            players.append('None')\n",
    "tweets['player'] = players\n",
    "tweets.head(20)"
   ]
  },
  {
   "cell_type": "code",
   "execution_count": 52,
   "metadata": {},
   "outputs": [
    {
     "data": {
      "text/plain": [
       "<matplotlib.axes._subplots.AxesSubplot at 0x18be47aa7b8>"
      ]
     },
     "execution_count": 52,
     "metadata": {},
     "output_type": "execute_result"
    },
    {
     "data": {
      "image/png": "[encoded data removed]",
      "text/plain": [
       "<matplotlib.figure.Figure at 0x18be47da9b0>"
      ]
     },
     "metadata": {},
     "output_type": "display_data"
    }
   ],
   "source": [
    "tweets_by_player = tweets['player'].value_counts()\n",
    "\n",
    "fig, ax = plt.subplots()\n",
    "ax.tick_params(axis='x', labelsize=15)\n",
    "ax.tick_params(axis='y', labelsize=10)\n",
    "ax.set_xlabel('Series', fontsize=15)\n",
    "ax.set_ylabel('Number of tweets' , fontsize=15)\n",
    "ax.set_title('Top 5 series', fontsize=15, fontweight='bold')\n",
    "tweets_by_player[:6].plot(ax=ax, kind='bar', color='green')"
   ]
  },
  {
   "cell_type": "code",
   "execution_count": null,
   "metadata": {
    "collapsed": true
   },
   "outputs": [],
   "source": [
    "## Desafio: filtrando pelas coordenadas geográficas os tweets em português"
   ]
  }
 ],
 "metadata": {
  "kernelspec": {
   "display_name": "Python 3",
   "language": "python",
   "name": "python3"
  },
  "language_info": {
   "codemirror_mode": {
    "name": "ipython",
    "version": 3
   },
   "file_extension": ".py",
   "mimetype": "text/x-python",
   "name": "python",
   "nbconvert_exporter": "python",
   "pygments_lexer": "ipython3",
   "version": "3.6.2"
  }
 },
 "nbformat": 4,
 "nbformat_minor": 2
}
